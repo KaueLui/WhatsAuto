{
 "cells": [
  {
   "cell_type": "code",
   "execution_count": 1,
   "metadata": {},
   "outputs": [],
   "source": [
    "# Fazendo a importação\n",
    "from selenium import webdriver\n",
    "from selenium.webdriver.chrome.service import Service\n",
    "from webdriver_manager.chrome import ChromeDriverManager\n",
    "\n",
    "# Fazendo para abrir o navegador e abrir na página certa.\n",
    "service = Service(ChromeDriverManager().install())\n",
    "nav = webdriver.Chrome(service=service)\n",
    "nav.get(\"https://web.whatsapp.com\")"
   ]
  },
  {
   "cell_type": "code",
   "execution_count": 2,
   "metadata": {},
   "outputs": [],
   "source": [
    "from selenium.webdriver.common.keys import Keys\n",
    "import pyperclip\n",
    "import time\n",
    "\n",
    "mensagem = \"\"\"Olá!\n",
    "Isto é um pequeno teste.\n",
    "\"\"\"\n",
    "\n",
    "ListaContatos = [\"BODE GAIATO FC\", \"Explicação\"]\n",
    "#print(len(ListaContatos))  -- Imprimindo a quantidade de contatos na lista.\n",
    "\n",
    "#Clicando na pesquisa.\n",
    "#Clicando na barra de pesquisa e digitando o nome para busca.\n",
    "#Dando enter na pesquisa e abrindo conversa.\n",
    "#Colocando um timer para não ficar muito automático.\n",
    "nav.find_element('xpath', '//*[@id=\"side\"]/div[1]/div/div/button/div[2]/span').click()\n",
    "nav.find_element('xpath', '//*[@id=\"side\"]/div[1]/div/div/div[2]/div/div[1]/p').send_keys(\"BODE GAIATO FC\")\n",
    "nav.find_element('xpath', '//*[@id=\"side\"]/div[1]/div/div/div[2]/div/div[1]/p').send_keys(Keys.ENTER)\n",
    "time.sleep(2)\n",
    "\n",
    "#Enviando mensagem na conversa.\n",
    "pyperclip.copy(mensagem)\n",
    "nav.find_element('xpath', '//*[@id=\"main\"]/footer/div[1]/div/span[2]/div/div[2]/div[1]/div[2]/div[1]/p').send_keys(Keys.CONTROL + \"v\")\n",
    "nav.find_element('xpath', '//*[@id=\"side\"]/div[1]/div/div/div[2]/div/div[1]/p').send_keys(Keys.ENTER)\n",
    "nav.find_element('xpath', '//*[@id=\"main\"]/footer/div[1]/div/span[2]/div/div[2]/div[2]/button/span').click()\n",
    "time.sleep(3)"
   ]
  },
  {
   "cell_type": "code",
   "execution_count": 3,
   "metadata": {},
   "outputs": [],
   "source": [
    "#Encaminhando a mensagem para a lista de contatos.\n",
    "from selenium.webdriver.common.action_chains import ActionChains"
   ]
  },
  {
   "cell_type": "code",
   "execution_count": 4,
   "metadata": {},
   "outputs": [
    {
     "ename": "NameError",
     "evalue": "name 'lista_contatos' is not defined",
     "output_type": "error",
     "traceback": [
      "\u001b[1;31m---------------------------------------------------------------------------\u001b[0m",
      "\u001b[1;31mNameError\u001b[0m                                 Traceback (most recent call last)",
      "Cell \u001b[1;32mIn[4], line 1\u001b[0m\n\u001b[1;32m----> 1\u001b[0m qtde_contatos \u001b[39m=\u001b[39m \u001b[39mlen\u001b[39m(lista_contatos)\n\u001b[0;32m      3\u001b[0m \u001b[39mif\u001b[39;00m qtde_contatos \u001b[39m%\u001b[39m \u001b[39m5\u001b[39m \u001b[39m==\u001b[39m \u001b[39m0\u001b[39m:\n\u001b[0;32m      4\u001b[0m     qtde_blocos \u001b[39m=\u001b[39m qtde_contatos \u001b[39m/\u001b[39m \u001b[39m5\u001b[39m\n",
      "\u001b[1;31mNameError\u001b[0m: name 'lista_contatos' is not defined"
     ]
    }
   ],
   "source": [
    "qtde_contatos = len(lista_contatos)\n",
    "\n",
    "if qtde_contatos % 5 == 0:\n",
    "    qtde_blocos = qtde_contatos / 5\n",
    "else:\n",
    "    qtde_blocos = int(qtde_contatos / 5) + 1\n",
    "\n",
    "for i in range(qtde_blocos):\n",
    "    \n",
    "    i_inicial = i * 5\n",
    "    i_final = (i + 1) * 5\n",
    "    lista_enviar = lista_contatos[i_inicial:i_final]\n",
    "\n",
    "    #Selecionando a mensagem para enviar e clicando pra abrir o encaminhar.\n",
    "    lista_elementos = nav.find_elements('class name', '_2AOIt') \n",
    "    for item in lista_elementos:\n",
    "        mensagem = mensagem.replace(\"\\n\", \"\")\n",
    "        texto = item.text.replace(\"\\n\", \"\")\n",
    "        if mensagem in texto:\n",
    "            elemento = item\n",
    "        \n",
    "    ActionChains(nav).move_to_element(elemento).perform()\n",
    "    elemento.find_element('class name', '_3u9t-').click()\n",
    "    time.sleep(0.5)\n",
    "    nav.find_element('xpath', '//*[@id=\"app\"]/div/span[4]/div/ul/div/li[4]/div').click()\n",
    "    nav.find_element('xpath', '//*[@id=\"main\"]/span[2]/div/button[4]/span').click()\n",
    "    time.sleep(1)\n",
    "\n",
    "    for nome in lista_enviar:\n",
    "        #Selecionando os contatos para o envio.\n",
    "        #Escrevendo o nome.\n",
    "        nav.find_element('xpath', '//*[@id=\"app\"]/div/span[2]/div/div/div/div/div/div/div/div[1]/div/div/div[2]/div/div[1]/p').send_keys(nome)\n",
    "        time.sleep(1)\n",
    "        #Dando Enter\n",
    "        nav.find_element('xpath', '//*[@id=\"app\"]/div/span[2]/div/div/div/div/div/div/div/div[1]/div/div/div[2]/div/div[1]/p').send_keys(Keys.ENTER)\n",
    "        time.sleep(1)\n",
    "        #Apagando nome.\n",
    "        nav.find_element('xpath', '//*[@id=\"app\"]/div/span[2]/div/div/div/div/div/div/div/div[1]/div/div/div[2]/div/div[1]/p').send_keys(Keys.BACKSPACE)\n",
    "        time.sleep(1)\n",
    "\n",
    "    nav.find_element('xpath', '//*[@id=\"app\"]/div/span[2]/div/div/div/div/div/div/div/span/div/div/div/span').click()\n",
    "    time.sleep(3)"
   ]
  }
 ],
 "metadata": {
  "kernelspec": {
   "display_name": "Python 3",
   "language": "python",
   "name": "python3"
  },
  "language_info": {
   "codemirror_mode": {
    "name": "ipython",
    "version": 3
   },
   "file_extension": ".py",
   "mimetype": "text/x-python",
   "name": "python",
   "nbconvert_exporter": "python",
   "pygments_lexer": "ipython3",
   "version": "3.11.5"
  },
  "orig_nbformat": 4
 },
 "nbformat": 4,
 "nbformat_minor": 2
}
